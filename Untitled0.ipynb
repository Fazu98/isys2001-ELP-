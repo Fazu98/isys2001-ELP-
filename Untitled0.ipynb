{
  "nbformat": 4,
  "nbformat_minor": 0,
  "metadata": {
    "colab": {
      "provenance": [],
      "authorship_tag": "ABX9TyOD94ZkhWN//4EYL0md9PEs",
      "include_colab_link": true
    },
    "kernelspec": {
      "name": "python3",
      "display_name": "Python 3"
    },
    "language_info": {
      "name": "python"
    }
  },
  "cells": [
    {
      "cell_type": "markdown",
      "metadata": {
        "id": "view-in-github",
        "colab_type": "text"
      },
      "source": [
        "<a href=\"https://colab.research.google.com/github/Fazu98/isys2001-ELP-/blob/main/Untitled0.ipynb\" target=\"_parent\"><img src=\"https://colab.research.google.com/assets/colab-badge.svg\" alt=\"Open In Colab\"/></a>"
      ]
    },
    {
      "cell_type": "code",
      "execution_count": 1,
      "metadata": {
        "colab": {
          "base_uri": "https://localhost:8080/"
        },
        "id": "TXFEblgvTkW5",
        "outputId": "863fedc9-9dac-4dde-e5fd-61d631ab5dc3"
      },
      "outputs": [
        {
          "output_type": "stream",
          "name": "stdout",
          "text": [
            "Requirement already satisfied: matplotlib in /usr/local/lib/python3.10/dist-packages (3.7.1)\n",
            "Requirement already satisfied: graphviz in /usr/local/lib/python3.10/dist-packages (0.20.3)\n",
            "Requirement already satisfied: contourpy>=1.0.1 in /usr/local/lib/python3.10/dist-packages (from matplotlib) (1.2.1)\n",
            "Requirement already satisfied: cycler>=0.10 in /usr/local/lib/python3.10/dist-packages (from matplotlib) (0.12.1)\n",
            "Requirement already satisfied: fonttools>=4.22.0 in /usr/local/lib/python3.10/dist-packages (from matplotlib) (4.53.1)\n",
            "Requirement already satisfied: kiwisolver>=1.0.1 in /usr/local/lib/python3.10/dist-packages (from matplotlib) (1.4.5)\n",
            "Requirement already satisfied: numpy>=1.20 in /usr/local/lib/python3.10/dist-packages (from matplotlib) (1.26.4)\n",
            "Requirement already satisfied: packaging>=20.0 in /usr/local/lib/python3.10/dist-packages (from matplotlib) (24.1)\n",
            "Requirement already satisfied: pillow>=6.2.0 in /usr/local/lib/python3.10/dist-packages (from matplotlib) (9.4.0)\n",
            "Requirement already satisfied: pyparsing>=2.3.1 in /usr/local/lib/python3.10/dist-packages (from matplotlib) (3.1.2)\n",
            "Requirement already satisfied: python-dateutil>=2.7 in /usr/local/lib/python3.10/dist-packages (from matplotlib) (2.8.2)\n",
            "Requirement already satisfied: six>=1.5 in /usr/local/lib/python3.10/dist-packages (from python-dateutil>=2.7->matplotlib) (1.16.0)\n"
          ]
        }
      ],
      "source": [
        "pip install matplotlib graphviz\n"
      ]
    },
    {
      "cell_type": "code",
      "source": [
        "from graphviz import Digraph\n",
        "\n",
        "# Create a new directed graph\n",
        "dot = Digraph(comment='Rudgate University Academic Integrity Procedure')\n",
        "\n",
        "# Define the nodes (tasks, gateways, subprocesses)\n",
        "dot.node('A', 'Academic Integrity Breach Identified')\n",
        "dot.node('B', 'Submit Report of Breach')\n",
        "dot.node('C', 'Conduct Preliminary Evaluation')\n",
        "dot.node('D', 'Consult with Unit Coordinator')\n",
        "dot.node('E', 'Review Evidence')\n",
        "dot.node('F', 'Is the Breach Minor or Major?')\n",
        "dot.node('G1', 'Handle Minor Breaches')\n",
        "dot.node('G2', 'Handle Major Breaches')\n",
        "dot.node('H', 'Notify Student of Initial Review Outcome')\n",
        "dot.node('I', 'Collect Student Response')\n",
        "dot.node('J', 'Conduct Follow-Up Review')\n",
        "dot.node('K', 'Make Final Decision and Record')\n",
        "dot.node('L', 'Breach Decision Made')\n",
        "\n",
        "# Add edges (connections between nodes)\n",
        "dot.edges(['AB', 'BC', 'CD', 'DE', 'EF'])\n",
        "dot.edge('F', 'G1', label='Minor')\n",
        "dot.edge('F', 'G2', label='Major')\n",
        "dot.edge('G1', 'H')\n",
        "dot.edge('G2', 'H')\n",
        "dot.edge('H', 'I')\n",
        "dot.edge('I', 'J')\n",
        "dot.edge('J', 'K')\n",
        "dot.edge('K', 'L')\n",
        "\n",
        "# Render the diagram\n",
        "dot.render('rudgate_bpmn', format='png')\n",
        "\n",
        "# Display the diagram\n",
        "dot.view()\n"
      ],
      "metadata": {
        "colab": {
          "base_uri": "https://localhost:8080/",
          "height": 35
        },
        "id": "bg2Syqj0Tupy",
        "outputId": "21b51eb6-2e45-4a89-96b3-4f86abb94953"
      },
      "execution_count": 2,
      "outputs": [
        {
          "output_type": "execute_result",
          "data": {
            "text/plain": [
              "'rudgate_bpmn.pdf'"
            ],
            "application/vnd.google.colaboratory.intrinsic+json": {
              "type": "string"
            }
          },
          "metadata": {},
          "execution_count": 2
        }
      ]
    }
  ]
}